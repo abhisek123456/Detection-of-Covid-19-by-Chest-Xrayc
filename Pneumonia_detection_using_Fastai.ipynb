{
  "nbformat": 4,
  "nbformat_minor": 0,
  "metadata": {
    "colab": {
      "provenance": [],
      "gpuType": "T4"
    },
    "kernelspec": {
      "name": "python3",
      "display_name": "Python 3"
    },
    "language_info": {
      "name": "python"
    },
    "accelerator": "GPU"
  },
  "cells": [
    {
      "cell_type": "code",
      "execution_count": 1,
      "metadata": {
        "id": "XiotHqc3jpqi"
      },
      "outputs": [],
      "source": [
        "from fastai.data.all import *\n",
        "from fastai.vision.all import *"
      ]
    },
    {
      "cell_type": "code",
      "source": [
        "fnames = get_image_files(\"/content/drive/MyDrive/chest_xray_dataset/train/\")"
      ],
      "metadata": {
        "id": "6d2N44HRkQdx"
      },
      "execution_count": 2,
      "outputs": []
    },
    {
      "cell_type": "code",
      "source": [
        "dblock = DataBlock()"
      ],
      "metadata": {
        "id": "lzNOWiJhlqfw"
      },
      "execution_count": 5,
      "outputs": []
    },
    {
      "cell_type": "code",
      "source": [
        "dsets = dblock.datasets(fnames)\n",
        "dsets.train[0]"
      ],
      "metadata": {
        "colab": {
          "base_uri": "https://localhost:8080/"
        },
        "id": "-SdXyJt_lyqI",
        "outputId": "a14c3bab-c1fc-43b8-c7f7-1160ee063a97"
      },
      "execution_count": 11,
      "outputs": [
        {
          "output_type": "execute_result",
          "data": {
            "text/plain": [
              "(Path('/content/drive/MyDrive/chest_xray_dataset/train/PNEUMONIA/person38_bacteria_194.jpeg'),\n",
              " Path('/content/drive/MyDrive/chest_xray_dataset/train/PNEUMONIA/person38_bacteria_194.jpeg'))"
            ]
          },
          "metadata": {},
          "execution_count": 11
        }
      ]
    },
    {
      "cell_type": "code",
      "source": [],
      "metadata": {
        "id": "xgMr1JR8mHiX"
      },
      "execution_count": null,
      "outputs": []
    }
  ]
}